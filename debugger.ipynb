{
 "cells": [
  {
   "cell_type": "code",
   "execution_count": 2,
   "metadata": {},
   "outputs": [],
   "source": [
    "import re\n",
    "import requests"
   ]
  },
  {
   "cell_type": "code",
   "execution_count": 15,
   "metadata": {},
   "outputs": [],
   "source": [
    "def main(site_url, substring):\n",
    "#     import pdb\n",
    "#     pdb.set_trace()\n",
    "    \n",
    "    site_code = get_site_code(site_url)\n",
    "    matching_substrings = get_matching_substrings(site_url, substring)\n",
    "    print('\"{}\" found {} in {}'.format(substring, len(matching_substrings), site_url))"
   ]
  },
  {
   "cell_type": "code",
   "execution_count": 16,
   "metadata": {},
   "outputs": [],
   "source": [
    "def get_site_code(site_url):\n",
    "    if not site_url.startswith(\"http\"):\n",
    "        site_url = \"http://\" + site_url\n",
    "    return requests.get(site_url).text"
   ]
  },
  {
   "cell_type": "code",
   "execution_count": 19,
   "metadata": {},
   "outputs": [],
   "source": [
    "def get_matching_substrings(source, substring):\n",
    "    return re.findall(substring, source)"
   ]
  },
  {
   "cell_type": "code",
   "execution_count": 23,
   "metadata": {},
   "outputs": [
    {
     "name": "stdout",
     "output_type": "stream",
     "text": [
      "\"Gazeta\" found 0 in ukr.net\n"
     ]
    }
   ],
   "source": [
    "main(\"ukr.net\", 'Gazeta')"
   ]
  },
  {
   "cell_type": "code",
   "execution_count": null,
   "metadata": {},
   "outputs": [],
   "source": []
  }
 ],
 "metadata": {
  "kernelspec": {
   "display_name": "Python 3",
   "language": "python",
   "name": "python3"
  },
  "language_info": {
   "codemirror_mode": {
    "name": "ipython",
    "version": 3
   },
   "file_extension": ".py",
   "mimetype": "text/x-python",
   "name": "python",
   "nbconvert_exporter": "python",
   "pygments_lexer": "ipython3",
   "version": "3.6.4"
  }
 },
 "nbformat": 4,
 "nbformat_minor": 2
}
